{
  "cells": [
    {
      "cell_type": "code",
      "execution_count": null,
      "id": "f9ccc4b7",
      "metadata": {
        "id": "f9ccc4b7"
      },
      "outputs": [],
      "source": [
        "import sqlite3\n",
        "from sqlite3 import Error\n",
        "import pandas as pd\n",
        "import seaborn as sns\n",
        "import matplotlib.pyplot as plt\n",
        "import numpy as np"
      ]
    },
    {
      "cell_type": "code",
      "execution_count": null,
      "id": "b8a9e890",
      "metadata": {
        "id": "b8a9e890"
      },
      "outputs": [],
      "source": [
        "connection=sqlite3.connect('chinook.db')"
      ]
    },
    {
      "cell_type": "code",
      "execution_count": null,
      "id": "bdb4b56c",
      "metadata": {
        "id": "bdb4b56c"
      },
      "outputs": [],
      "source": [
        "def create_connection(path):\n",
        "    connection=None\n",
        "    try:\n",
        "        connection=sqlite3.connect(path)\n",
        "        print('Connection to DB succesful!')\n",
        "    except Error as e:\n",
        "        print(f\"The error '{e}' occured.\")\n",
        "    return connection"
      ]
    },
    {
      "cell_type": "code",
      "execution_count": null,
      "id": "63142f61",
      "metadata": {
        "id": "63142f61",
        "outputId": "cbc94052-8875-4c2e-cce0-b60b4eae9173"
      },
      "outputs": [
        {
          "name": "stdout",
          "output_type": "stream",
          "text": [
            "Connection to DB succesful!\n"
          ]
        },
        {
          "data": {
            "text/plain": [
              "<sqlite3.Connection at 0x2334f6c1120>"
            ]
          },
          "execution_count": 25,
          "metadata": {},
          "output_type": "execute_result"
        }
      ],
      "source": [
        "create_connection('chinook.db')"
      ]
    },
    {
      "cell_type": "code",
      "execution_count": null,
      "id": "e883b247",
      "metadata": {
        "id": "e883b247"
      },
      "outputs": [],
      "source": [
        "def execute_read_query(connection, query):\n",
        "    cursor = connection.cursor()\n",
        "    result = None\n",
        "    try:\n",
        "        cursor.execute(query)\n",
        "        result=cursor.fetchall()\n",
        "        return result\n",
        "    except Error as e:\n",
        "        print(f\"The Error '{e}' occurred.\")"
      ]
    },
    {
      "cell_type": "markdown",
      "source": [
        "## 2.1"
      ],
      "metadata": {
        "id": "qF8GsZy7ms03"
      },
      "id": "qF8GsZy7ms03"
    },
    {
      "cell_type": "code",
      "execution_count": null,
      "id": "48f5f42c",
      "metadata": {
        "id": "48f5f42c",
        "outputId": "12db2370-6d0a-4518-ba8c-14ddac236b42"
      },
      "outputs": [
        {
          "data": {
            "text/plain": [
              "[(3, 'Jane', 'Peacock', 146, 833.0400000000013),\n",
              " (4, 'Margaret', 'Park', 140, 775.4000000000011),\n",
              " (5, 'Steve', 'Johnson', 126, 720.160000000001)]"
            ]
          },
          "execution_count": 27,
          "metadata": {},
          "output_type": "execute_result"
        }
      ],
      "source": [
        "q1='''\n",
        "    SELECT employees.EmployeeId, employees.FirstName, employees.LastName, COUNT(customers.CustomerId) AS TOTAL_TRANSACTION, SUM(invoices.Total) AS Total\n",
        "    FROM employees JOIN customers ON employees.EmployeeId= customers.SupportRepId JOIN invoices ON customers.CustomerId= invoices.CustomerId\n",
        "    GROUP BY employees.EmployeeId, employees.FirstName, employees.LastName\n",
        "    ORDER BY 4 DESC\n",
        "'''\n",
        "\n",
        "out1= execute_read_query(connection, q1)\n",
        "out1"
      ]
    },
    {
      "cell_type": "code",
      "execution_count": null,
      "id": "f13239a9",
      "metadata": {
        "id": "f13239a9",
        "outputId": "bf8f901f-e5b0-4299-8664-c005e8ba98c9"
      },
      "outputs": [
        {
          "data": {
            "text/html": [
              "<div>\n",
              "<style scoped>\n",
              "    .dataframe tbody tr th:only-of-type {\n",
              "        vertical-align: middle;\n",
              "    }\n",
              "\n",
              "    .dataframe tbody tr th {\n",
              "        vertical-align: top;\n",
              "    }\n",
              "\n",
              "    .dataframe thead th {\n",
              "        text-align: right;\n",
              "    }\n",
              "</style>\n",
              "<table border=\"1\" class=\"dataframe\">\n",
              "  <thead>\n",
              "    <tr style=\"text-align: right;\">\n",
              "      <th></th>\n",
              "      <th>EmployeeId</th>\n",
              "      <th>FirstName</th>\n",
              "      <th>LastName</th>\n",
              "      <th>Total_Transaction</th>\n",
              "      <th>Total</th>\n",
              "    </tr>\n",
              "  </thead>\n",
              "  <tbody>\n",
              "    <tr>\n",
              "      <th>0</th>\n",
              "      <td>3</td>\n",
              "      <td>Jane</td>\n",
              "      <td>Peacock</td>\n",
              "      <td>146</td>\n",
              "      <td>833.04</td>\n",
              "    </tr>\n",
              "    <tr>\n",
              "      <th>1</th>\n",
              "      <td>4</td>\n",
              "      <td>Margaret</td>\n",
              "      <td>Park</td>\n",
              "      <td>140</td>\n",
              "      <td>775.40</td>\n",
              "    </tr>\n",
              "    <tr>\n",
              "      <th>2</th>\n",
              "      <td>5</td>\n",
              "      <td>Steve</td>\n",
              "      <td>Johnson</td>\n",
              "      <td>126</td>\n",
              "      <td>720.16</td>\n",
              "    </tr>\n",
              "  </tbody>\n",
              "</table>\n",
              "</div>"
            ],
            "text/plain": [
              "   EmployeeId FirstName LastName  Total_Transaction   Total\n",
              "0           3      Jane  Peacock                146  833.04\n",
              "1           4  Margaret     Park                140  775.40\n",
              "2           5     Steve  Johnson                126  720.16"
            ]
          },
          "execution_count": 28,
          "metadata": {},
          "output_type": "execute_result"
        }
      ],
      "source": [
        "name_df= pd.DataFrame(data = out1, columns=['EmployeeId','FirstName','LastName','Total_Transaction','Total'])\n",
        "name_df"
      ]
    },
    {
      "cell_type": "markdown",
      "id": "c28e53d4",
      "metadata": {
        "id": "c28e53d4"
      },
      "source": [
        "ANS:\n",
        "We are promoting Jane Peacock because she has the highest total transaction and sale."
      ]
    },
    {
      "cell_type": "markdown",
      "source": [
        "## 2.2"
      ],
      "metadata": {
        "id": "5Yc8y4cqmziL"
      },
      "id": "5Yc8y4cqmziL"
    },
    {
      "cell_type": "code",
      "execution_count": null,
      "id": "6966b49c",
      "metadata": {
        "id": "6966b49c"
      },
      "outputs": [],
      "source": [
        "q2='''\n",
        "    SELECT invoices.CustomerId, invoices.InvoiceDate\n",
        "    FROM invoices\n",
        "    ORDER BY 1\n",
        "'''\n",
        "\n",
        "out2= execute_read_query(connection, q2)\n",
        "#out2"
      ]
    },
    {
      "cell_type": "code",
      "execution_count": null,
      "id": "809897e6",
      "metadata": {
        "id": "809897e6"
      },
      "outputs": [],
      "source": [
        "df1= pd.DataFrame(data = out2, columns=['CustomerId','Invoicesdate'])\n",
        "#df1[0:5]"
      ]
    },
    {
      "cell_type": "code",
      "execution_count": null,
      "id": "f7e2ffd2",
      "metadata": {
        "id": "f7e2ffd2",
        "outputId": "ba52f0c8-d2c3-4209-abac-a7af14df74b3"
      },
      "outputs": [
        {
          "data": {
            "text/plain": [
              "CustomerId       int64\n",
              "Invoicesdate    object\n",
              "dtype: object"
            ]
          },
          "execution_count": 31,
          "metadata": {},
          "output_type": "execute_result"
        }
      ],
      "source": [
        "df1.dtypes"
      ]
    },
    {
      "cell_type": "code",
      "execution_count": null,
      "id": "dd4da2ad",
      "metadata": {
        "id": "dd4da2ad"
      },
      "outputs": [],
      "source": [
        "df1['Invoicesdate'] = pd.to_datetime(df1['Invoicesdate'])"
      ]
    },
    {
      "cell_type": "code",
      "execution_count": null,
      "id": "518f20cd",
      "metadata": {
        "id": "518f20cd"
      },
      "outputs": [],
      "source": [
        "df1['VisitFrequency'] = df1.groupby('CustomerId')['Invoicesdate'].diff().dt.days"
      ]
    },
    {
      "cell_type": "code",
      "execution_count": null,
      "id": "5e973dfa",
      "metadata": {
        "id": "5e973dfa",
        "outputId": "068d8611-ff71-41be-e1ad-d8a036357733"
      },
      "outputs": [
        {
          "data": {
            "text/html": [
              "<div>\n",
              "<style scoped>\n",
              "    .dataframe tbody tr th:only-of-type {\n",
              "        vertical-align: middle;\n",
              "    }\n",
              "\n",
              "    .dataframe tbody tr th {\n",
              "        vertical-align: top;\n",
              "    }\n",
              "\n",
              "    .dataframe thead th {\n",
              "        text-align: right;\n",
              "    }\n",
              "</style>\n",
              "<table border=\"1\" class=\"dataframe\">\n",
              "  <thead>\n",
              "    <tr style=\"text-align: right;\">\n",
              "      <th></th>\n",
              "      <th>CustomerId</th>\n",
              "      <th>Invoicesdate</th>\n",
              "      <th>VisitFrequency</th>\n",
              "    </tr>\n",
              "  </thead>\n",
              "  <tbody>\n",
              "    <tr>\n",
              "      <th>0</th>\n",
              "      <td>1</td>\n",
              "      <td>2010-03-11</td>\n",
              "      <td>NaN</td>\n",
              "    </tr>\n",
              "    <tr>\n",
              "      <th>1</th>\n",
              "      <td>1</td>\n",
              "      <td>2010-06-13</td>\n",
              "      <td>94.0</td>\n",
              "    </tr>\n",
              "    <tr>\n",
              "      <th>2</th>\n",
              "      <td>1</td>\n",
              "      <td>2010-09-15</td>\n",
              "      <td>94.0</td>\n",
              "    </tr>\n",
              "    <tr>\n",
              "      <th>3</th>\n",
              "      <td>1</td>\n",
              "      <td>2011-05-06</td>\n",
              "      <td>233.0</td>\n",
              "    </tr>\n",
              "    <tr>\n",
              "      <th>4</th>\n",
              "      <td>1</td>\n",
              "      <td>2012-10-27</td>\n",
              "      <td>540.0</td>\n",
              "    </tr>\n",
              "  </tbody>\n",
              "</table>\n",
              "</div>"
            ],
            "text/plain": [
              "   CustomerId Invoicesdate  VisitFrequency\n",
              "0           1   2010-03-11             NaN\n",
              "1           1   2010-06-13            94.0\n",
              "2           1   2010-09-15            94.0\n",
              "3           1   2011-05-06           233.0\n",
              "4           1   2012-10-27           540.0"
            ]
          },
          "execution_count": 34,
          "metadata": {},
          "output_type": "execute_result"
        }
      ],
      "source": [
        "df1.head()"
      ]
    },
    {
      "cell_type": "code",
      "execution_count": null,
      "id": "ab6cbc4f",
      "metadata": {
        "id": "ab6cbc4f",
        "outputId": "1f69a22c-b26d-4325-dea1-8a42a1f58630"
      },
      "outputs": [
        {
          "data": {
            "image/png": "[encoded data removed]",
            "text/plain": [
              "<Figure size 640x480 with 1 Axes>"
            ]
          },
          "metadata": {},
          "output_type": "display_data"
        }
      ],
      "source": [
        "#2.2\n",
        "plt.hist(df1['VisitFrequency'], bins=20, color='lightblue', edgecolor='black')\n",
        "plt.title('Distribution of Visit Frequencies', fontsize=20, color='red', weight='bold')\n",
        "plt.xlabel('Visit Frequency (days)', fontsize=15, color='red')\n",
        "plt.ylabel('Number of Customers', fontsize=15, color='red')\n",
        "plt.xticks(np.arange(50, 600, 50))\n",
        "plt.show()"
      ]
    },
    {
      "cell_type": "markdown",
      "source": [
        "## 2.3"
      ],
      "metadata": {
        "id": "0jb_hnZBm1wc"
      },
      "id": "0jb_hnZBm1wc"
    },
    {
      "cell_type": "code",
      "execution_count": null,
      "id": "db68f6b7",
      "metadata": {
        "id": "db68f6b7"
      },
      "outputs": [],
      "source": [
        "q3='''\n",
        "    SELECT albums.Title AS Albumn_Title ,artists.Name AS Artist,genres.Name AS Genre, SUM(invoice_items.Quantity) AS Amount_sold\n",
        "FROM invoice_items JOIN tracks ON invoice_items.TrackId=tracks.TrackId JOIN genres ON tracks.GenreId=genres.GenreId JOIN albums\n",
        "ON tracks.AlbumId=albums.AlbumId JOIN artists ON artists.ArtistId=albums.ArtistId\n",
        "GROUP BY albums.AlbumId ORDER BY 4 DESC;\n",
        "'''\n",
        "\n",
        "out3= execute_read_query(connection, q3)\n",
        "#out3"
      ]
    },
    {
      "cell_type": "code",
      "execution_count": null,
      "id": "67a55b24",
      "metadata": {
        "id": "67a55b24"
      },
      "outputs": [],
      "source": [
        "df3= pd.DataFrame(data = out3, columns=['Album', 'Artist', 'Genre', 'Amount Sold'])\n",
        "df5 = df3.head(50)\n",
        "df6 = df5.groupby(['Genre']).sum()\n",
        "df6s = df6.sort_values(by='Amount Sold', ascending = False)"
      ]
    },
    {
      "cell_type": "code",
      "execution_count": null,
      "id": "f324b31e",
      "metadata": {
        "id": "f324b31e",
        "outputId": "eb7cbb01-1a05-42dd-8b15-6ed605bc85df"
      },
      "outputs": [
        {
          "data": {
            "text/plain": [
              "Text(0.5, 0, 'Amount Sold')"
            ]
          },
          "execution_count": 38,
          "metadata": {},
          "output_type": "execute_result"
        },
        {
          "data": {
            "image/png": "[encoded data removed]",
            "text/plain": [
              "<Figure size 640x480 with 1 Axes>"
            ]
          },
          "metadata": {},
          "output_type": "display_data"
        }
      ],
      "source": [
        "df7 = df5.head(10)\n",
        "c = ['black', 'orange', 'blue', 'green', 'orange', 'black', 'orange','orange', 'green', 'orange']\n",
        "r = {'fontsize': 20, 'weight': 'bold', 'color': 'red'}\n",
        "sns.barplot(x=df7['Amount Sold'], y=df7['Album'], data=df7, palette=c)\n",
        "legend_labels = ['Latin', 'Rock', 'Blues', 'Alternative&Punk']\n",
        "handles = [plt.Rectangle((0,0),1,1, color=color) for color in c]\n",
        "plt.legend(handles, legend_labels, bbox_to_anchor=(1.05, 1), loc='upper left')\n",
        "plt.title('Top 15 Best-selling Albums', fontdict = r)\n",
        "plt.ylabel('Album', fontdict = r)\n",
        "plt.xlabel('Amount Sold', fontdict = r)"
      ]
    },
    {
      "cell_type": "code",
      "execution_count": null,
      "id": "b2494541",
      "metadata": {
        "id": "b2494541",
        "outputId": "cad10881-4ef5-439f-8b9d-b345b5d205a8"
      },
      "outputs": [
        {
          "data": {
            "text/plain": [
              "Text(0.5, 0, 'Total Amount Sold')"
            ]
          },
          "execution_count": 39,
          "metadata": {},
          "output_type": "execute_result"
        },
        {
          "data": {
            "image/png": "[encoded data removed]",
            "text/plain": [
              "<Figure size 640x480 with 1 Axes>"
            ]
          },
          "metadata": {},
          "output_type": "display_data"
        }
      ],
      "source": [
        "sns.barplot(x=df6s['Amount Sold'], y=df6s.index, data=df6s, orient='h')\n",
        "plt.title('Top 50 Best-selling Albums', fontdict = r)\n",
        "plt.ylabel('Genre', fontdict = r)\n",
        "plt.xlabel('Total Amount Sold', fontdict = r)"
      ]
    },
    {
      "cell_type": "code",
      "execution_count": null,
      "id": "cbfa247a",
      "metadata": {
        "id": "cbfa247a",
        "outputId": "32e126d6-a6b6-4a05-ae91-73c40150bfe4"
      },
      "outputs": [
        {
          "data": {
            "text/html": [
              "<div>\n",
              "<style scoped>\n",
              "    .dataframe tbody tr th:only-of-type {\n",
              "        vertical-align: middle;\n",
              "    }\n",
              "\n",
              "    .dataframe tbody tr th {\n",
              "        vertical-align: top;\n",
              "    }\n",
              "\n",
              "    .dataframe thead th {\n",
              "        text-align: right;\n",
              "    }\n",
              "</style>\n",
              "<table border=\"1\" class=\"dataframe\">\n",
              "  <thead>\n",
              "    <tr style=\"text-align: right;\">\n",
              "      <th></th>\n",
              "      <th>Amount Sold</th>\n",
              "    </tr>\n",
              "    <tr>\n",
              "      <th>Genre</th>\n",
              "      <th></th>\n",
              "    </tr>\n",
              "  </thead>\n",
              "  <tbody>\n",
              "    <tr>\n",
              "      <th>Rock</th>\n",
              "      <td>847</td>\n",
              "    </tr>\n",
              "    <tr>\n",
              "      <th>Latin</th>\n",
              "      <td>373</td>\n",
              "    </tr>\n",
              "    <tr>\n",
              "      <th>Metal</th>\n",
              "      <td>260</td>\n",
              "    </tr>\n",
              "    <tr>\n",
              "      <th>Alternative &amp; Punk</th>\n",
              "      <td>244</td>\n",
              "    </tr>\n",
              "    <tr>\n",
              "      <th>Jazz</th>\n",
              "      <td>80</td>\n",
              "    </tr>\n",
              "    <tr>\n",
              "      <th>TV Shows</th>\n",
              "      <td>75</td>\n",
              "    </tr>\n",
              "    <tr>\n",
              "      <th>Blues</th>\n",
              "      <td>74</td>\n",
              "    </tr>\n",
              "    <tr>\n",
              "      <th>Classical</th>\n",
              "      <td>41</td>\n",
              "    </tr>\n",
              "    <tr>\n",
              "      <th>R&amp;B/Soul</th>\n",
              "      <td>41</td>\n",
              "    </tr>\n",
              "    <tr>\n",
              "      <th>Pop</th>\n",
              "      <td>28</td>\n",
              "    </tr>\n",
              "    <tr>\n",
              "      <th>Reggae</th>\n",
              "      <td>24</td>\n",
              "    </tr>\n",
              "    <tr>\n",
              "      <th>Soundtrack</th>\n",
              "      <td>20</td>\n",
              "    </tr>\n",
              "    <tr>\n",
              "      <th>Drama</th>\n",
              "      <td>18</td>\n",
              "    </tr>\n",
              "    <tr>\n",
              "      <th>Sci Fi &amp; Fantasy</th>\n",
              "      <td>18</td>\n",
              "    </tr>\n",
              "    <tr>\n",
              "      <th>Hip Hop/Rap</th>\n",
              "      <td>17</td>\n",
              "    </tr>\n",
              "    <tr>\n",
              "      <th>Bossa Nova</th>\n",
              "      <td>15</td>\n",
              "    </tr>\n",
              "    <tr>\n",
              "      <th>Alternative</th>\n",
              "      <td>14</td>\n",
              "    </tr>\n",
              "    <tr>\n",
              "      <th>World</th>\n",
              "      <td>13</td>\n",
              "    </tr>\n",
              "    <tr>\n",
              "      <th>Electronica/Dance</th>\n",
              "      <td>12</td>\n",
              "    </tr>\n",
              "    <tr>\n",
              "      <th>Heavy Metal</th>\n",
              "      <td>10</td>\n",
              "    </tr>\n",
              "    <tr>\n",
              "      <th>Easy Listening</th>\n",
              "      <td>10</td>\n",
              "    </tr>\n",
              "    <tr>\n",
              "      <th>Rock And Roll</th>\n",
              "      <td>6</td>\n",
              "    </tr>\n",
              "  </tbody>\n",
              "</table>\n",
              "</div>"
            ],
            "text/plain": [
              "                    Amount Sold\n",
              "Genre                          \n",
              "Rock                        847\n",
              "Latin                       373\n",
              "Metal                       260\n",
              "Alternative & Punk          244\n",
              "Jazz                         80\n",
              "TV Shows                     75\n",
              "Blues                        74\n",
              "Classical                    41\n",
              "R&B/Soul                     41\n",
              "Pop                          28\n",
              "Reggae                       24\n",
              "Soundtrack                   20\n",
              "Drama                        18\n",
              "Sci Fi & Fantasy             18\n",
              "Hip Hop/Rap                  17\n",
              "Bossa Nova                   15\n",
              "Alternative                  14\n",
              "World                        13\n",
              "Electronica/Dance            12\n",
              "Heavy Metal                  10\n",
              "Easy Listening               10\n",
              "Rock And Roll                 6"
            ]
          },
          "execution_count": 40,
          "metadata": {},
          "output_type": "execute_result"
        }
      ],
      "source": [
        "#2.3 Most popular genre for top 50 best-selling albums\n",
        "df8 = df3.groupby(['Genre']).sum()\n",
        "df8s = df8.sort_values(by='Amount Sold', ascending = False)\n",
        "df8s"
      ]
    },
    {
      "cell_type": "markdown",
      "source": [
        "## 2.4"
      ],
      "metadata": {
        "id": "xPKuQEecm37b"
      },
      "id": "xPKuQEecm37b"
    },
    {
      "cell_type": "code",
      "execution_count": null,
      "id": "bdde6d5f",
      "metadata": {
        "id": "bdde6d5f"
      },
      "outputs": [],
      "source": [
        "q4='''\n",
        "    With CTE as (SELECT c.FirstName, c.LastName, C.Address, c.Phone, c.Email, SUM(i.total) As Total_amount,\n",
        "dense_rank() OVER (ORDER BY SUM(i.total) DESC) As spending_rank\n",
        "FROM customers c\n",
        "JOIN invoices i ON c.CustomerId=i.CustomerId\n",
        "GROUP BY c.CustomerId\n",
        "ORDER BY spending_rank)\n",
        "SELECT * FROM CTE\n",
        "WHERE spending_rank=2 OR spending_rank=3 OR spending_rank=5 OR spending_rank=8 OR spending_rank=12\n",
        "\n",
        "'''\n",
        "\n",
        "out4= execute_read_query(connection, q4)"
      ]
    },
    {
      "cell_type": "code",
      "execution_count": null,
      "id": "8de4a96c",
      "metadata": {
        "id": "8de4a96c",
        "outputId": "5164344b-f427-402f-a258-8997a52834c2"
      },
      "outputs": [
        {
          "data": {
            "text/html": [
              "<div>\n",
              "<style scoped>\n",
              "    .dataframe tbody tr th:only-of-type {\n",
              "        vertical-align: middle;\n",
              "    }\n",
              "\n",
              "    .dataframe tbody tr th {\n",
              "        vertical-align: top;\n",
              "    }\n",
              "\n",
              "    .dataframe thead th {\n",
              "        text-align: right;\n",
              "    }\n",
              "</style>\n",
              "<table border=\"1\" class=\"dataframe\">\n",
              "  <thead>\n",
              "    <tr style=\"text-align: right;\">\n",
              "      <th></th>\n",
              "      <th>FirstName</th>\n",
              "      <th>LastName</th>\n",
              "      <th>Address</th>\n",
              "      <th>Phone</th>\n",
              "      <th>Email</th>\n",
              "      <th>Total_amount</th>\n",
              "      <th>Spending_rank</th>\n",
              "    </tr>\n",
              "  </thead>\n",
              "  <tbody>\n",
              "    <tr>\n",
              "      <th>0</th>\n",
              "      <td>Richard</td>\n",
              "      <td>Cunningham</td>\n",
              "      <td>2211 W Berry Street</td>\n",
              "      <td>+1 (817) 924-7272</td>\n",
              "      <td>ricunningham@hotmail.com</td>\n",
              "      <td>47.62</td>\n",
              "      <td>2</td>\n",
              "    </tr>\n",
              "    <tr>\n",
              "      <th>1</th>\n",
              "      <td>Luis</td>\n",
              "      <td>Rojas</td>\n",
              "      <td>Calle Lira, 198</td>\n",
              "      <td>+56 (0)2 635 4444</td>\n",
              "      <td>luisrojas@yahoo.cl</td>\n",
              "      <td>46.62</td>\n",
              "      <td>3</td>\n",
              "    </tr>\n",
              "    <tr>\n",
              "      <th>2</th>\n",
              "      <td>Julia</td>\n",
              "      <td>Barnett</td>\n",
              "      <td>302 S 700 E</td>\n",
              "      <td>+1 (801) 531-7272</td>\n",
              "      <td>jubarnett@gmail.com</td>\n",
              "      <td>43.62</td>\n",
              "      <td>5</td>\n",
              "    </tr>\n",
              "    <tr>\n",
              "      <th>3</th>\n",
              "      <td>Terhi</td>\n",
              "      <td>Hämäläinen</td>\n",
              "      <td>Porthaninkatu 9</td>\n",
              "      <td>+358 09 870 2000</td>\n",
              "      <td>terhi.hamalainen@apple.fi</td>\n",
              "      <td>41.62</td>\n",
              "      <td>8</td>\n",
              "    </tr>\n",
              "    <tr>\n",
              "      <th>4</th>\n",
              "      <td>Luís</td>\n",
              "      <td>Gonçalves</td>\n",
              "      <td>Av. Brigadeiro Faria Lima, 2170</td>\n",
              "      <td>+55 (12) 3923-5555</td>\n",
              "      <td>luisg@embraer.com.br</td>\n",
              "      <td>39.62</td>\n",
              "      <td>12</td>\n",
              "    </tr>\n",
              "    <tr>\n",
              "      <th>5</th>\n",
              "      <td>François</td>\n",
              "      <td>Tremblay</td>\n",
              "      <td>1498 rue Bélanger</td>\n",
              "      <td>+1 (514) 721-4711</td>\n",
              "      <td>ftremblay@gmail.com</td>\n",
              "      <td>39.62</td>\n",
              "      <td>12</td>\n",
              "    </tr>\n",
              "    <tr>\n",
              "      <th>6</th>\n",
              "      <td>Bjørn</td>\n",
              "      <td>Hansen</td>\n",
              "      <td>Ullevålsveien 14</td>\n",
              "      <td>+47 22 44 22 22</td>\n",
              "      <td>bjorn.hansen@yahoo.no</td>\n",
              "      <td>39.62</td>\n",
              "      <td>12</td>\n",
              "    </tr>\n",
              "    <tr>\n",
              "      <th>7</th>\n",
              "      <td>Dan</td>\n",
              "      <td>Miller</td>\n",
              "      <td>541 Del Medio Avenue</td>\n",
              "      <td>+1 (650) 644-3358</td>\n",
              "      <td>dmiller@comcast.com</td>\n",
              "      <td>39.62</td>\n",
              "      <td>12</td>\n",
              "    </tr>\n",
              "    <tr>\n",
              "      <th>8</th>\n",
              "      <td>Heather</td>\n",
              "      <td>Leacock</td>\n",
              "      <td>120 S Orange Ave</td>\n",
              "      <td>+1 (407) 999-7788</td>\n",
              "      <td>hleacock@gmail.com</td>\n",
              "      <td>39.62</td>\n",
              "      <td>12</td>\n",
              "    </tr>\n",
              "    <tr>\n",
              "      <th>9</th>\n",
              "      <td>Wyatt</td>\n",
              "      <td>Girard</td>\n",
              "      <td>9, Place Louis Barthou</td>\n",
              "      <td>+33 05 56 96 96 96</td>\n",
              "      <td>wyatt.girard@yahoo.fr</td>\n",
              "      <td>39.62</td>\n",
              "      <td>12</td>\n",
              "    </tr>\n",
              "  </tbody>\n",
              "</table>\n",
              "</div>"
            ],
            "text/plain": [
              "  FirstName    LastName                          Address               Phone  \\\n",
              "0   Richard  Cunningham              2211 W Berry Street   +1 (817) 924-7272   \n",
              "1      Luis       Rojas                  Calle Lira, 198   +56 (0)2 635 4444   \n",
              "2     Julia     Barnett                      302 S 700 E   +1 (801) 531-7272   \n",
              "3     Terhi  Hämäläinen                  Porthaninkatu 9    +358 09 870 2000   \n",
              "4      Luís   Gonçalves  Av. Brigadeiro Faria Lima, 2170  +55 (12) 3923-5555   \n",
              "5  François    Tremblay                1498 rue Bélanger   +1 (514) 721-4711   \n",
              "6     Bjørn      Hansen                 Ullevålsveien 14     +47 22 44 22 22   \n",
              "7       Dan      Miller             541 Del Medio Avenue   +1 (650) 644-3358   \n",
              "8   Heather     Leacock                 120 S Orange Ave   +1 (407) 999-7788   \n",
              "9     Wyatt      Girard           9, Place Louis Barthou  +33 05 56 96 96 96   \n",
              "\n",
              "                       Email  Total_amount  Spending_rank  \n",
              "0   ricunningham@hotmail.com         47.62              2  \n",
              "1         luisrojas@yahoo.cl         46.62              3  \n",
              "2        jubarnett@gmail.com         43.62              5  \n",
              "3  terhi.hamalainen@apple.fi         41.62              8  \n",
              "4       luisg@embraer.com.br         39.62             12  \n",
              "5        ftremblay@gmail.com         39.62             12  \n",
              "6      bjorn.hansen@yahoo.no         39.62             12  \n",
              "7        dmiller@comcast.com         39.62             12  \n",
              "8         hleacock@gmail.com         39.62             12  \n",
              "9      wyatt.girard@yahoo.fr         39.62             12  "
            ]
          },
          "execution_count": 42,
          "metadata": {},
          "output_type": "execute_result"
        }
      ],
      "source": [
        "#2.4\n",
        "df4= pd.DataFrame(data = out4, columns=['FirstName','LastName', 'Address', 'Phone', 'Email', 'Total_amount','Spending_rank'])\n",
        "df4"
      ]
    }
  ],
  "metadata": {
    "kernelspec": {
      "display_name": "Python 3 (ipykernel)",
      "language": "python",
      "name": "python3"
    },
    "language_info": {
      "codemirror_mode": {
        "name": "ipython",
        "version": 3
      },
      "file_extension": ".py",
      "mimetype": "text/x-python",
      "name": "python",
      "nbconvert_exporter": "python",
      "pygments_lexer": "ipython3",
      "version": "3.9.13"
    },
    "colab": {
      "provenance": []
    }
  },
  "nbformat": 4,
  "nbformat_minor": 5
}